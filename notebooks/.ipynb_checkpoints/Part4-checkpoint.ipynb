{
 "cells": [
  {
   "cell_type": "code",
   "execution_count": 1,
   "id": "f5313145-814e-4c3e-a392-595d9717de79",
   "metadata": {},
   "outputs": [],
   "source": [
    "from pyspark.sql import SparkSession\n",
    "from pyspark.ml.feature import Tokenizer, CountVectorizer\n",
    "from pyspark.ml.classification import LogisticRegression\n",
    "from pyspark.ml.evaluation import MulticlassClassificationEvaluator\n",
    "from pyspark.sql.functions import when"
   ]
  },
  {
   "cell_type": "code",
   "execution_count": 2,
   "id": "433fa3ac-7a50-436e-a390-4013409dc489",
   "metadata": {},
   "outputs": [],
   "source": [
    "# Créer la session Spark avec les dépendances nécessaires\n",
    "spark = SparkSession.builder \\\n",
    "    .appName(\"Sentiment Analysis\") \\\n",
    "    .config(\"spark.jars.packages\", \n",
    "            \"org.apache.spark:spark-mllib_2.12:3.3.0,org.postgresql:postgresql:42.2.25\") \\\n",
    "    .getOrCreate()\n",
    "spark.conf.set(\"spark.sql.execution.arrow.pyspark.enabled\", \"true\")\n",
    "\n",
    "# URL JDBC pour PostgreSQL\n",
    "jdbc_url = \"jdbc:postgresql://192.168.1.10:5432/postgres\"\n",
    "\n",
    "# Propriétés JDBC\n",
    "jdbc_properties = {\n",
    "    \"user\": \"postgres\",\n",
    "    \"password\": \"test2021\",\n",
    "    \"driver\": \"org.postgresql.Driver\"\n",
    "}"
   ]
  },
  {
   "cell_type": "code",
   "execution_count": 3,
   "id": "76fc6782-e778-432b-937c-10380a8602bf",
   "metadata": {},
   "outputs": [],
   "source": [
    "# Charger les données de la table 'toots'\n",
    "df = spark.read.jdbc(url=jdbc_url, table=\"toots\", properties=jdbc_properties)"
   ]
  },
  {
   "cell_type": "code",
   "execution_count": 4,
   "id": "c13cefb2-b39d-4b99-a18b-a10623a58725",
   "metadata": {},
   "outputs": [
    {
     "name": "stdout",
     "output_type": "stream",
     "text": [
      "root\n",
      " |-- user: string (nullable = true)\n",
      " |-- content: string (nullable = true)\n",
      " |-- timestamp: timestamp (nullable = true)\n",
      " |-- language: string (nullable = true)\n",
      " |-- date: date (nullable = true)\n",
      " |-- time: string (nullable = true)\n",
      "\n",
      "+---------+--------------------+-------------------+--------+----------+-----+\n",
      "|     user|             content|          timestamp|language|      date| time|\n",
      "+---------+--------------------+-------------------+--------+----------+-----+\n",
      "| uavideos|<p>Video : <a hre...|2024-10-13 08:15:50|      en|2024-10-13|08:15|\n",
      "|   guigui|<p>the certificat...|2024-10-13 08:15:54|      en|2024-10-13|08:15|\n",
      "|i8FunInfo|<p><a href=\"https...|2024-10-13 08:15:31|      en|2024-10-13|08:15|\n",
      "|    f1bot|<p>Autosport (@au...|2024-10-13 08:15:53|      en|2024-10-13|08:15|\n",
      "|    f1bot|<p>Autosport (@au...|2024-10-13 08:15:53|      en|2024-10-13|08:15|\n",
      "+---------+--------------------+-------------------+--------+----------+-----+\n",
      "only showing top 5 rows\n",
      "\n"
     ]
    }
   ],
   "source": [
    "# Vérifier le schéma et afficher les données\n",
    "df.printSchema()\n",
    "df.show(5)"
   ]
  },
  {
   "cell_type": "code",
   "execution_count": 5,
   "id": "b2e5081e-411d-4de1-91c1-f379a71a6df0",
   "metadata": {},
   "outputs": [],
   "source": [
    "# Créer une colonne 'label' pour les sentiments\n",
    "# Ajustez la logique en fonction des critères que vous souhaitez utiliser\n",
    "df = df.withColumn(\"label\", when(df.content.contains(\"good\"), 1)\n",
    "                             .when(df.content.contains(\"bad\"), 0)\n",
    "                             .otherwise(2))  # 2 pour neutre ou inconnu"
   ]
  },
  {
   "cell_type": "code",
   "execution_count": 6,
   "id": "494e35c6-a195-4c47-b17d-a6c76717a517",
   "metadata": {},
   "outputs": [],
   "source": [
    "# Filtrer les données pour ne garder que les sentiments positifs et négatifs\n",
    "train_data = df.filter(df.label != 2)  # Exclure les neutres\n",
    "train_data = train_data.dropna(subset=[\"content\", \"label\"])  # Supprimer les lignes avec des valeurs manquantes"
   ]
  },
  {
   "cell_type": "code",
   "execution_count": 7,
   "id": "e71df0e0-8bf9-49e5-be96-3278ff49a3c0",
   "metadata": {},
   "outputs": [],
   "source": [
    "# Prétraitement du texte\n",
    "tokenizer = Tokenizer(inputCol=\"content\", outputCol=\"words\")\n",
    "tokenized_data = tokenizer.transform(train_data)\n",
    "\n",
    "vectorizer = CountVectorizer(inputCol=\"words\", outputCol=\"features\")\n",
    "vectorized_data = vectorizer.fit(tokenized_data).transform(tokenized_data)"
   ]
  },
  {
   "cell_type": "code",
   "execution_count": 8,
   "id": "3cb2377f-e6e6-454e-b896-3b93bb7de18f",
   "metadata": {},
   "outputs": [],
   "source": [
    "# Entraînement du modèle de classification\n",
    "lr = LogisticRegression(featuresCol=\"features\", labelCol=\"label\")\n",
    "train_data, test_data = vectorized_data.randomSplit([0.8, 0.2])\n",
    "model = lr.fit(train_data)"
   ]
  },
  {
   "cell_type": "code",
   "execution_count": 9,
   "id": "a042f216-817c-4ddb-9fb5-1175271d4eca",
   "metadata": {},
   "outputs": [],
   "source": [
    "# Prédictions sur les données de test\n",
    "predictions = model.transform(test_data)"
   ]
  },
  {
   "cell_type": "code",
   "execution_count": 10,
   "id": "744cd11f-a507-4257-98a1-b3c82a84e79c",
   "metadata": {},
   "outputs": [
    {
     "name": "stdout",
     "output_type": "stream",
     "text": [
      "Accuracy: 0.8\n"
     ]
    }
   ],
   "source": [
    "# Évaluation du modèle\n",
    "evaluator = MulticlassClassificationEvaluator(labelCol=\"label\", predictionCol=\"prediction\", metricName=\"accuracy\")\n",
    "accuracy = evaluator.evaluate(predictions)\n",
    "print(f\"Accuracy: {accuracy}\")"
   ]
  },
  {
   "cell_type": "code",
   "execution_count": 11,
   "id": "ccacfdc9-952a-464c-adae-1344d1dee860",
   "metadata": {},
   "outputs": [],
   "source": [
    "# Appliquer le modèle sur l'ensemble de données complet\n",
    "batch_predictions = model.transform(vectorized_data)"
   ]
  },
  {
   "cell_type": "code",
   "execution_count": 14,
   "id": "7451b90a-9165-41b0-a641-345d41b3c5cb",
   "metadata": {},
   "outputs": [
    {
     "name": "stdout",
     "output_type": "stream",
     "text": [
      "+---------------+--------------------------------+----------+-----+\n",
      "|           user|                         content|prediction|label|\n",
      "+---------------+--------------------------------+----------+-----+\n",
      "|     kirancodes|            <p><span>If you h...|       1.0|    1|\n",
      "|   LydiaConwell|            <p>I see there's ...|       1.0|    1|\n",
      "|chestnutvinegar|            <p>One is good en...|       1.0|    1|\n",
      "|  fractaldoctor|            <p>Without origin...|       1.0|    1|\n",
      "|       WorldSBK|            <p>It's not only ...|       1.0|    1|\n",
      "|   Naija247news|            <p>Seven Ships Ex...|       1.0|    1|\n",
      "|   shaunsocials|            <p>They had a bad...|       0.0|    0|\n",
      "|     burgatshow|            <p>Tegnap en volt...|       1.0|    0|\n",
      "|         brutus|<p>希少素材×サルトリアの技〈L...|       1.0|    1|\n",
      "|        jfmezei|            <p>So on the Cana...|       1.0|    1|\n",
      "+---------------+--------------------------------+----------+-----+\n",
      "only showing top 10 rows\n",
      "\n"
     ]
    }
   ],
   "source": [
    "# Afficher un aperçu des données avec les prédictions\n",
    "predictions_overview = batch_predictions.select(\"user\", \"content\", \"prediction\", \"label\")\n",
    "predictions_overview.show(10)"
   ]
  },
  {
   "cell_type": "code",
   "execution_count": 13,
   "id": "c387e184-3d27-4422-8482-05d8cb2ac2fe",
   "metadata": {},
   "outputs": [],
   "source": [
    "# Stocker les résultats dans PostgreSQL\n",
    "results = batch_predictions.select(\"user\", \"content\", \"prediction\")\n",
    "results.write.jdbc(url=jdbc_url, table=\"sentiment_results\", properties=jdbc_properties, mode=\"append\")"
   ]
  }
 ],
 "metadata": {
  "kernelspec": {
   "display_name": "Python 3 (ipykernel)",
   "language": "python",
   "name": "python3"
  },
  "language_info": {
   "codemirror_mode": {
    "name": "ipython",
    "version": 3
   },
   "file_extension": ".py",
   "mimetype": "text/x-python",
   "name": "python",
   "nbconvert_exporter": "python",
   "pygments_lexer": "ipython3",
   "version": "3.11.6"
  }
 },
 "nbformat": 4,
 "nbformat_minor": 5
}
