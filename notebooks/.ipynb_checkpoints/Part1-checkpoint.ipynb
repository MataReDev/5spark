{
 "cells": [
  {
   "cell_type": "code",
   "execution_count": 3,
   "id": "80f1cedf-9440-46eb-9696-87eb33c161fa",
   "metadata": {
    "editable": true,
    "slideshow": {
     "slide_type": ""
    },
    "tags": []
   },
   "outputs": [
    {
     "ename": "TypeError",
     "evalue": "Mastodon.__init__() got an unexpected keyword argument 'verify_ssl'",
     "output_type": "error",
     "traceback": [
      "\u001b[0;31m---------------------------------------------------------------------------\u001b[0m",
      "\u001b[0;31mTypeError\u001b[0m                                 Traceback (most recent call last)",
      "Cell \u001b[0;32mIn[3], line 5\u001b[0m\n\u001b[1;32m      2\u001b[0m \u001b[38;5;28;01mfrom\u001b[39;00m \u001b[38;5;21;01mkafka\u001b[39;00m \u001b[38;5;28;01mimport\u001b[39;00m KafkaProducer\n\u001b[1;32m      3\u001b[0m \u001b[38;5;28;01mimport\u001b[39;00m \u001b[38;5;21;01mjson\u001b[39;00m\n\u001b[0;32m----> 5\u001b[0m mastodon \u001b[38;5;241m=\u001b[39m \u001b[43mMastodon\u001b[49m\u001b[43m(\u001b[49m\u001b[43maccess_token\u001b[49m\u001b[38;5;241;43m=\u001b[39;49m\u001b[38;5;124;43m'\u001b[39;49m\u001b[38;5;124;43mFuWrfz3vApHoG9Ub6HmCHfPvLgL9qmyPspwZz9Toyis\u001b[39;49m\u001b[38;5;124;43m'\u001b[39;49m\u001b[43m,\u001b[49m\u001b[43m \u001b[49m\u001b[43mapi_base_url\u001b[49m\u001b[38;5;241;43m=\u001b[39;49m\u001b[38;5;124;43m'\u001b[39;49m\u001b[38;5;124;43mhttps://mastodon.social\u001b[39;49m\u001b[38;5;124;43m'\u001b[39;49m\u001b[43m,\u001b[49m\u001b[43m \u001b[49m\u001b[43mverify_ssl\u001b[49m\u001b[38;5;241;43m=\u001b[39;49m\u001b[38;5;28;43;01mFalse\u001b[39;49;00m\u001b[43m)\u001b[49m\n\u001b[1;32m      7\u001b[0m producer \u001b[38;5;241m=\u001b[39m KafkaProducer(\n\u001b[1;32m      8\u001b[0m     bootstrap_servers\u001b[38;5;241m=\u001b[39m\u001b[38;5;124m'\u001b[39m\u001b[38;5;124m192.168.1.24:9092\u001b[39m\u001b[38;5;124m'\u001b[39m,\n\u001b[1;32m      9\u001b[0m     value_serializer\u001b[38;5;241m=\u001b[39m\u001b[38;5;28;01mlambda\u001b[39;00m v: json\u001b[38;5;241m.\u001b[39mdumps(v)\u001b[38;5;241m.\u001b[39mencode(\u001b[38;5;124m'\u001b[39m\u001b[38;5;124mutf-8\u001b[39m\u001b[38;5;124m'\u001b[39m)\n\u001b[1;32m     10\u001b[0m )\n\u001b[1;32m     12\u001b[0m \u001b[38;5;28;01mclass\u001b[39;00m \u001b[38;5;21;01mTootListener\u001b[39;00m(StreamListener):\n",
      "\u001b[0;31mTypeError\u001b[0m: Mastodon.__init__() got an unexpected keyword argument 'verify_ssl'"
     ]
    }
   ],
   "source": [
    "from mastodon import Mastodon, StreamListener\n",
    "from kafka import KafkaProducer\n",
    "import json\n",
    "\n",
    "mastodon = Mastodon(access_token='RPnKEXdgAFUKQ_Cgsjq5noE3TdchFUVL6R5mjS3Cx9w', api_base_url='https://mastodon.social')\n",
    "\n",
    "producer = KafkaProducer(\n",
    "    bootstrap_servers='192.168.1.24:9092',\n",
    "    value_serializer=lambda v: json.dumps(v).encode('utf-8')\n",
    ")\n",
    "\n",
    "class TootListener(StreamListener):\n",
    "    def on_update(self, status):\n",
    "        toot_data = {\n",
    "            'content': status['content'],\n",
    "            'user': status['account']['username'],\n",
    "            'timestamp': status['created_at'].isoformat()\n",
    "        }\n",
    "        producer.send('mastodonstream', toot_data)\n",
    "\n",
    "listener = TootListener()\n",
    "mastodon.stream_public(listener)\n"
   ]
  }
 ],
 "metadata": {
  "kernelspec": {
   "display_name": "Python 3 (ipykernel)",
   "language": "python",
   "name": "python3"
  },
  "language_info": {
   "codemirror_mode": {
    "name": "ipython",
    "version": 3
   },
   "file_extension": ".py",
   "mimetype": "text/x-python",
   "name": "python",
   "nbconvert_exporter": "python",
   "pygments_lexer": "ipython3",
   "version": "3.11.6"
  }
 },
 "nbformat": 4,
 "nbformat_minor": 5
}
