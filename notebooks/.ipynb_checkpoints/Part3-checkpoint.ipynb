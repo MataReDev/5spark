{
 "cells": [
  {
   "cell_type": "markdown",
   "id": "9398c159-ee50-4102-a3e7-1bf67f6071c4",
   "metadata": {},
   "source": [
    "# 1. Connexion Spark à PostgreSQL et Chargement des Données"
   ]
  },
  {
   "cell_type": "code",
   "execution_count": 1,
   "id": "68434593-aebe-481c-83f8-45a78b90f716",
   "metadata": {
    "scrolled": true
   },
   "outputs": [
    {
     "name": "stdout",
     "output_type": "stream",
     "text": [
      "+---------+--------------------+-------------------+--------+----------+-----+\n",
      "|     user|             content|          timestamp|language|      date| time|\n",
      "+---------+--------------------+-------------------+--------+----------+-----+\n",
      "| uavideos|<p>Video : <a hre...|2024-10-13 08:15:50|      en|2024-10-13|08:15|\n",
      "|   guigui|<p>the certificat...|2024-10-13 08:15:54|      en|2024-10-13|08:15|\n",
      "|i8FunInfo|<p><a href=\"https...|2024-10-13 08:15:31|      en|2024-10-13|08:15|\n",
      "|    f1bot|<p>Autosport (@au...|2024-10-13 08:15:53|      en|2024-10-13|08:15|\n",
      "|    f1bot|<p>Autosport (@au...|2024-10-13 08:15:53|      en|2024-10-13|08:15|\n",
      "+---------+--------------------+-------------------+--------+----------+-----+\n",
      "only showing top 5 rows\n",
      "\n",
      "+--------------+------------------------+--------------------+--------+----+-----+-----------+------------+\n",
      "|          user|                 content|           timestamp|language|date| time|toot_length|     hashtag|\n",
      "+--------------+------------------------+--------------------+--------+----+-----+-----------+------------+\n",
      "|digitalfoundry|    <p>DF Direct Week...| 2024-10-13 08:21:05|      en|NULL|08:21|        851|         170|\n",
      "|      pomarede|    <p>what an epic s...|2024-10-13 08:21:...|      en|NULL|08:21|       2204|          39|\n",
      "|       sol_hsa|    <p>Bought star co...| 2024-10-13 08:21:10|      en|NULL|08:21|        429|        STAR|\n",
      "|      takenoko|<p><span>ありうる </s...|2024-10-13 08:21:...|      en|NULL|08:21|        150|lovefighters|\n",
      "|     DOTNEWSTV|    <p>Bigg Boss Tami...|2024-10-13 08:21:...|      en|NULL|08:21|        882|          39|\n",
      "+--------------+------------------------+--------------------+--------+----+-----+-----------+------------+\n",
      "only showing top 5 rows\n",
      "\n"
     ]
    }
   ],
   "source": [
    "from pyspark.sql import SparkSession\n",
    "\n",
    "spark = SparkSession.builder \\\n",
    "    .appName(\"PostgresConnection\") \\\n",
    "    .config(\"spark.jars.packages\", \n",
    "            \"org.apache.spark:spark-sql-kafka-0-10_2.12:3.3.0,org.apache.spark:spark-streaming-kafka-0-10_2.12:3.3.0,org.postgresql:postgresql:42.2.25\") \\\n",
    "    .getOrCreate()\n",
    "\n",
    "jdbc_url = \"jdbc:postgresql://192.168.1.10:5432/postgres\"\n",
    "\n",
    "jdbc_properties = {\n",
    "    \"user\": \"postgres\",\n",
    "    \"password\": \"test2021\",\n",
    "    \"driver\": \"org.postgresql.Driver\"\n",
    "}\n",
    "\n",
    "try:\n",
    "    df_toots = spark.read.jdbc(url=jdbc_url, table=\"toots\", properties=jdbc_properties)\n",
    "    df_toots.show(5) \n",
    "except Exception as e:\n",
    "    print(\"Erreur rencontrée:\", e)\n",
    "\n",
    "try:\n",
    "    df_hashtags = spark.read.jdbc(url=jdbc_url, table=\"hashtags\", properties=jdbc_properties)\n",
    "    df_hashtags.show(5) \n",
    "except Exception as e:\n",
    "    print(\"Erreur rencontrée:\", e)"
   ]
  },
  {
   "cell_type": "markdown",
   "id": "5a4c3336-a8df-4d6a-8bef-d98ebffbb278",
   "metadata": {},
   "source": [
    "# 2. Filtrer les toots en fonction de l'activité des utilisateurs"
   ]
  },
  {
   "cell_type": "code",
   "execution_count": 2,
   "id": "bf46314d-80ee-43d2-928e-d99427f7bbb4",
   "metadata": {},
   "outputs": [
    {
     "name": "stdout",
     "output_type": "stream",
     "text": [
      "+---------------+----------+\n",
      "|           user|toot_count|\n",
      "+---------------+----------+\n",
      "|NewsDailyArabic|        55|\n",
      "|            344|        36|\n",
      "|  italy24_press|        29|\n",
      "|            rff|        24|\n",
      "| AboveMaidstone|        16|\n",
      "|          Kahte|        16|\n",
      "| digitalfoundry|        15|\n",
      "|       takenoko|        13|\n",
      "|       htTweets|        12|\n",
      "|     iembot_mtr|        11|\n",
      "|     iembot_ffc|        11|\n",
      "|   onlinereport|        11|\n",
      "|       rawchili|        11|\n",
      "+---------------+----------+\n",
      "\n"
     ]
    }
   ],
   "source": [
    "from pyspark.sql import functions as F\n",
    "\n",
    "df_user_activity = df_toots.groupBy(\"user\").agg(F.count(\"*\").alias(\"toot_count\"))\n",
    "\n",
    "df_active_users = df_user_activity.filter(F.col(\"toot_count\") > 10)\n",
    "df_active_users = df_active_users.orderBy(F.col(\"toot_count\").desc())\n",
    "df_active_users.show()\n"
   ]
  },
  {
   "cell_type": "markdown",
   "id": "b5f2df0b-a4ac-42ad-90b4-fef1b60391ab",
   "metadata": {},
   "source": [
    "# 3. Regrouper par Temps et Hashtags, Calculer le Nombre de Toots, et Identifier le Hashtag le Plus Fréquent"
   ]
  },
  {
   "cell_type": "code",
   "execution_count": 3,
   "id": "67a9eb36-fcb8-4bd6-990a-4dfa7c4958bb",
   "metadata": {},
   "outputs": [
    {
     "name": "stdout",
     "output_type": "stream",
     "text": [
      "root\n",
      " |-- user: string (nullable = true)\n",
      " |-- content: string (nullable = true)\n",
      " |-- timestamp: timestamp (nullable = true)\n",
      " |-- language: string (nullable = true)\n",
      " |-- date: date (nullable = true)\n",
      " |-- time: string (nullable = true)\n",
      " |-- toot_length: integer (nullable = true)\n",
      " |-- hashtag: string (nullable = true)\n",
      "\n",
      "+------------+----------+\n",
      "|     hashtag|toot_count|\n",
      "+------------+----------+\n",
      "|          39|        56|\n",
      "|lovefighters|         8|\n",
      "|  nowplaying|         6|\n",
      "|           3|         2|\n",
      "|           m|         2|\n",
      "|           2|         2|\n",
      "|   msg413713|         1|\n",
      "|         map|         1|\n",
      "|         169|         1|\n",
      "|         gik|         1|\n",
      "+------------+----------+\n",
      "\n"
     ]
    }
   ],
   "source": [
    "df_hashtags.printSchema()\n",
    "\n",
    "df_grouped = df_hashtags.groupBy(\"hashtag\").agg(\n",
    "    F.count(\"*\").alias(\"toot_count\")\n",
    ")\n",
    "\n",
    "df_top_hashtag = df_grouped.orderBy(F.desc(\"toot_count\")).limit(10)\n",
    "df_top_hashtag.show()"
   ]
  },
  {
   "cell_type": "markdown",
   "id": "1f54625e-fbcc-4c1f-b42d-d8a3f2ed497c",
   "metadata": {},
   "source": [
    "# 4. Calculer les Agrégations (Nombre de Toots par Jour, Longueur Moyenne des Toots)"
   ]
  },
  {
   "cell_type": "code",
   "execution_count": 4,
   "id": "d3b8d2b3-de41-436f-a795-ea44a9b9800c",
   "metadata": {},
   "outputs": [
    {
     "name": "stdout",
     "output_type": "stream",
     "text": [
      "+----------+-----------+\n",
      "|      date|total_toots|\n",
      "+----------+-----------+\n",
      "|2024-10-10|          4|\n",
      "|2024-10-12|          4|\n",
      "|2024-10-09|          1|\n",
      "|2024-10-13|       1999|\n",
      "+----------+-----------+\n",
      "\n",
      "+----------+-----------------+\n",
      "|      date|  avg_toot_length|\n",
      "+----------+-----------------+\n",
      "|2024-10-10|            131.5|\n",
      "|2024-10-12|           759.25|\n",
      "|2024-10-09|            229.0|\n",
      "|2024-10-13|646.1744127936032|\n",
      "+----------+-----------------+\n",
      "\n"
     ]
    }
   ],
   "source": [
    "df_with_length = df_toots.withColumn(\"toot_length\", F.length(\"content\"))\n",
    "\n",
    "df_toots_per_day = df_toots.groupBy(F.to_date(\"timestamp\").alias(\"date\")).agg(  # Utilisez \"timestamp\" ici\n",
    "    F.count(\"*\").alias(\"total_toots\")\n",
    ")\n",
    "\n",
    "df_avg_toot_length = df_with_length.groupBy(F.to_date(\"timestamp\").alias(\"date\")).agg(  # Utilisez \"timestamp\" ici\n",
    "    F.avg(\"toot_length\").alias(\"avg_toot_length\")\n",
    ")\n",
    "\n",
    "df_toots_per_day.show()\n",
    "df_avg_toot_length.show()\n"
   ]
  }
 ],
 "metadata": {
  "kernelspec": {
   "display_name": "Python 3 (ipykernel)",
   "language": "python",
   "name": "python3"
  },
  "language_info": {
   "codemirror_mode": {
    "name": "ipython",
    "version": 3
   },
   "file_extension": ".py",
   "mimetype": "text/x-python",
   "name": "python",
   "nbconvert_exporter": "python",
   "pygments_lexer": "ipython3",
   "version": "3.11.6"
  }
 },
 "nbformat": 4,
 "nbformat_minor": 5
}
