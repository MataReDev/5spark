{
 "cells": [
  {
   "cell_type": "code",
   "execution_count": 1,
   "id": "9acba111-bfc0-4de0-a188-5fcf5497d395",
   "metadata": {},
   "outputs": [
    {
     "name": "stdout",
     "output_type": "stream",
     "text": [
      "Session Spark créée\n"
     ]
    }
   ],
   "source": [
    "from pyspark.sql import SparkSession\n",
    "from pyspark.sql import functions as F\n",
    "from pyspark.sql.functions import col, from_json, udf, to_timestamp, date_format, length, avg, regexp_extract, explode\n",
    "from pyspark.sql.types import StructType, StructField, StringType\n",
    "from langdetect import detect\n",
    "from pyspark.sql.types import StringType\n",
    "\n",
    "spark = SparkSession.builder \\\n",
    "    .appName(\"MastodonKafkaStream\") \\\n",
    "    .config(\"spark.jars.packages\", \n",
    "            \"org.apache.spark:spark-sql-kafka-0-10_2.12:3.3.0,org.apache.spark:spark-streaming-kafka-0-10_2.12:3.3.0,org.postgresql:postgresql:42.2.25\") \\\n",
    "    .getOrCreate()\n",
    "\n",
    "print(\"Session Spark créée\")"
   ]
  },
  {
   "cell_type": "code",
   "execution_count": 2,
   "id": "c85ed69b-d4ee-4c44-85cf-462f9802a42f",
   "metadata": {},
   "outputs": [],
   "source": [
    "schema = StructType([\n",
    "    StructField(\"user\", StringType(), True),\n",
    "    StructField(\"content\", StringType(), True),\n",
    "    StructField(\"timestamp\", StringType(), True)\n",
    "])"
   ]
  },
  {
   "cell_type": "code",
   "execution_count": 3,
   "id": "1ae17b9b-cb3d-45a0-890a-0cd01406abe6",
   "metadata": {},
   "outputs": [],
   "source": [
    "# Données du topic Kafka 'mastodonstream'\n",
    "df = spark.readStream \\\n",
    "    .format(\"kafka\") \\\n",
    "    .option(\"kafka.bootstrap.servers\", \"192.168.1.10:9092\") \\\n",
    "    .option(\"subscribe\", \"mastodonstream\") \\\n",
    "    .load()"
   ]
  },
  {
   "cell_type": "markdown",
   "id": "a5695349-c3d6-4995-96b6-dc6711942edc",
   "metadata": {},
   "source": [
    "# Transformation 1"
   ]
  },
  {
   "cell_type": "code",
   "execution_count": 4,
   "id": "27a00076-b1e9-4e23-acbd-1561e22217cd",
   "metadata": {},
   "outputs": [],
   "source": [
    "def detect_language(text):\n",
    "    try:\n",
    "        return detect(text)\n",
    "    except:\n",
    "        return None\n",
    "\n",
    "lang_udf = udf(detect_language, StringType())\n",
    "\n",
    "df_parsed = df.selectExpr(\"CAST(value AS STRING)\") \\\n",
    "    .select(from_json(col(\"value\"), schema).alias(\"data\")) \\\n",
    "    .select(\"data.*\")\n",
    "\n",
    "df_with_lang = df_parsed.withColumn(\"language\", lang_udf(col(\"content\")))\n",
    "\n",
    "df_filtered = df_with_lang.filter(col(\"language\") == \"en\")"
   ]
  },
  {
   "cell_type": "markdown",
   "id": "80a3e9d1-1b80-4382-bbcf-736c113a935d",
   "metadata": {},
   "source": [
    "# Transformation 2"
   ]
  },
  {
   "cell_type": "code",
   "execution_count": 5,
   "id": "5b9e044f-002b-456c-97ea-765dbfaa3025",
   "metadata": {},
   "outputs": [],
   "source": [
    "# Colonne 'timestamp' en format timestamp\n",
    "df_with_timestamp = df_filtered.withColumn(\"timestamp\", to_timestamp(col(\"timestamp\")))\n",
    "\n",
    "df_with_time = df_with_timestamp \\\n",
    "    .withColumn(\"date\", date_format(col(\"timestamp\"), \"dd/MM/yyyy\")) \\\n",
    "    .withColumn(\"time\", date_format(col(\"timestamp\"), \"HH:mm\"))"
   ]
  },
  {
   "cell_type": "markdown",
   "id": "d360024b-f469-497e-b8ad-fb6442375967",
   "metadata": {},
   "source": [
    "# Action 1"
   ]
  },
  {
   "cell_type": "code",
   "execution_count": 6,
   "id": "0ecc8c0f-04ee-4bbd-a49e-e9d1a96183b1",
   "metadata": {},
   "outputs": [],
   "source": [
    "df_with_length = df_with_time.withColumn(\"toot_length\", length(col(\"content\")))\n",
    "\n",
    "# Longueur moyenne toots\n",
    "df_avg_length_user = df_with_length.groupBy(\"user\").agg(\n",
    "    avg(\"toot_length\").alias(\"avg_toot_length\")\n",
    ")"
   ]
  },
  {
   "cell_type": "markdown",
   "id": "59e99ca2-bf8f-44a1-9cde-03132b88053e",
   "metadata": {},
   "source": [
    "# Action 2"
   ]
  },
  {
   "cell_type": "code",
   "execution_count": 7,
   "id": "3d377b26-e2ff-414e-9397-f477da7f1ecc",
   "metadata": {},
   "outputs": [],
   "source": [
    "df_with_length = df_with_time.withColumn(\"toot_length\", length(col(\"content\")))\n",
    "\n",
    "df_with_hashtags = df_with_length.withColumn(\"hashtag\", regexp_extract(col(\"content\"), r\"#(\\w+)\", 1))\n",
    "\n",
    "df_filtered_hashtags = df_with_hashtags.filter(col(\"hashtag\") != \"\")\n",
    "\n",
    "df_avg_length_hashtag = df_filtered_hashtags.groupBy(\"hashtag\").agg(\n",
    "    avg(\"toot_length\").alias(\"avg_toot_length\")\n",
    ")"
   ]
  },
  {
   "cell_type": "markdown",
   "id": "a592efe1-cada-456f-bd7e-0af29ab99173",
   "metadata": {},
   "source": [
    "# Postgres"
   ]
  },
  {
   "cell_type": "code",
   "execution_count": null,
   "id": "b1b3a734-eb02-4f90-b49d-281691949018",
   "metadata": {},
   "outputs": [],
   "source": [
    "jdbc_url = \"jdbc:postgresql://192.168.1.10:5432/postgres\"\n",
    "jdbc_properties = {\n",
    "    \"user\": \"postgres\",\n",
    "    \"password\": \"test2021\",\n",
    "    \"driver\": \"org.postgresql.Driver\"\n",
    "}\n",
    "\n",
    "df_avg_length_user = df_with_length.groupBy(\"user\").agg(\n",
    "    avg(\"toot_length\").alias(\"avg_toot_length\")\n",
    ")\n",
    "\n",
    "def write_to_postgres(batch_df, batch_id):\n",
    "    batch_df.write.jdbc(url=jdbc_url, table=\"hashtags\", mode=\"append\", properties=jdbc_properties)\n",
    "\n",
    "# HASTAGS\n",
    "df_filtered_hashtags = df_filtered_hashtags.withColumn(\"date\", F.to_date(\"date\", \"yyyy-MM-dd\"))\n",
    "\n",
    "try:\n",
    "    df_filtered_hashtags.writeStream \\\n",
    "        .outputMode(\"append\") \\\n",
    "        .foreachBatch(write_to_postgres) \\\n",
    "        .start() \\\n",
    "        .awaitTermination()\n",
    "except Exception as e:\n",
    "    print(f\"Erreur dans le flux d'écriture des hashtags dans PostgreSQL : {e}\")\n",
    "\n"
   ]
  }
 ],
 "metadata": {
  "kernelspec": {
   "display_name": "Python 3 (ipykernel)",
   "language": "python",
   "name": "python3"
  },
  "language_info": {
   "codemirror_mode": {
    "name": "ipython",
    "version": 3
   },
   "file_extension": ".py",
   "mimetype": "text/x-python",
   "name": "python",
   "nbconvert_exporter": "python",
   "pygments_lexer": "ipython3",
   "version": "3.11.6"
  }
 },
 "nbformat": 4,
 "nbformat_minor": 5
}
