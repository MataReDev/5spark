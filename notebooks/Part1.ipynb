{
 "cells": [
  {
   "cell_type": "code",
   "execution_count": null,
   "id": "80f1cedf-9440-46eb-9696-87eb33c161fa",
   "metadata": {
    "editable": true,
    "slideshow": {
     "slide_type": ""
    },
    "tags": []
   },
   "outputs": [],
   "source": [
    "from mastodon import Mastodon, StreamListener\n",
    "from kafka import KafkaProducer\n",
    "import json\n",
    "\n",
    "mastodon = Mastodon(access_token='FuWrfz3vApHoG9Ub6HmCHfPvLgL9qmyPspwZz9Toyis', api_base_url='https://mastodon.social')\n",
    "\n",
    "producer = KafkaProducer(\n",
    "    bootstrap_servers='192.168.1.24:9092',\n",
    "    value_serializer=lambda v: json.dumps(v).encode('utf-8')\n",
    ")\n",
    "\n",
    "class TootListener(StreamListener):\n",
    "    def on_update(self, status):\n",
    "        toot_data = {\n",
    "            'content': status['content'],\n",
    "            'user': status['account']['username'],\n",
    "            'timestamp': status['created_at'].isoformat()\n",
    "        }\n",
    "        producer.send('mastodonstream', toot_data)\n",
    "\n",
    "listener = TootListener()\n",
    "mastodon.stream_public(listener)\n"
   ]
  }
 ],
 "metadata": {
  "kernelspec": {
   "display_name": "Python 3 (ipykernel)",
   "language": "python",
   "name": "python3"
  },
  "language_info": {
   "codemirror_mode": {
    "name": "ipython",
    "version": 3
   },
   "file_extension": ".py",
   "mimetype": "text/x-python",
   "name": "python",
   "nbconvert_exporter": "python",
   "pygments_lexer": "ipython3",
   "version": "3.11.6"
  }
 },
 "nbformat": 4,
 "nbformat_minor": 5
}
