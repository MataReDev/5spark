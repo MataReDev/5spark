{
 "cells": [
  {
   "cell_type": "markdown",
   "id": "9398c159-ee50-4102-a3e7-1bf67f6071c4",
   "metadata": {},
   "source": [
    "# 1. Connexion Spark à PostgreSQL et Chargement des Données"
   ]
  },
  {
   "cell_type": "code",
   "execution_count": 1,
   "id": "68434593-aebe-481c-83f8-45a78b90f716",
   "metadata": {
    "scrolled": true
   },
   "outputs": [
    {
     "name": "stdout",
     "output_type": "stream",
     "text": [
      "+---------------+--------------------+--------------------+--------+----------+-----+\n",
      "|           user|             content|           timestamp|language|      date| time|\n",
      "+---------------+--------------------+--------------------+--------+----------+-----+\n",
      "|    ezosnapshot|<p>Photographers ...| 2024-10-04 07:23:20|      en|2024-10-04|07:23|\n",
      "|       knotfeed|<p>⚡️At least 177...| 2024-10-04 07:38:29|      en|2024-10-04|07:38|\n",
      "|            344|<p>Interest rates...| 2024-10-04 07:38:31|      en|2024-10-04|07:38|\n",
      "|realTuckFrumper|<p>After &#39;RRR...|2024-10-04 07:38:...|      en|2024-10-04|07:38|\n",
      "|           hkrn|<p>Experimental w...| 2024-10-04 07:38:34|      en|2024-10-04|07:38|\n",
      "+---------------+--------------------+--------------------+--------+----------+-----+\n",
      "only showing top 5 rows\n",
      "\n",
      "+--------------------+--------------------+--------------------+--------+----+-----+-----------+-------+\n",
      "|                user|             content|           timestamp|language|date| time|toot_length|hashtag|\n",
      "+--------------------+--------------------+--------------------+--------+----+-----+-----------+-------+\n",
      "|  OculusMediterranei|<p>Don&#39;t get ...|2024-10-04 09:31:...|      en|NULL|09:31|         45|     39|\n",
      "|      digitechassist|<p>Why is Amazon ...|2024-10-04 09:31:...|      en|NULL|09:31|        578|     39|\n",
      "|nitter.freedit.eu...|<p>Most consecuti...| 2024-10-04 09:31:53|      en|NULL|09:31|        721|      m|\n",
      "|      checkweathersg|<p>🌧 Rain covera...| 2024-10-04 09:16:53|      en|NULL|09:16|         98|   rain|\n",
      "|             dogtrax|<p><span class=\"h...|2024-10-04 09:32:...|      en|NULL|09:32|       1187|     39|\n",
      "+--------------------+--------------------+--------------------+--------+----+-----+-----------+-------+\n",
      "only showing top 5 rows\n",
      "\n"
     ]
    }
   ],
   "source": [
    "from pyspark.sql import SparkSession\n",
    "\n",
    "# Initialisation de la session Spark avec le driver PostgreSQL\n",
    "spark = SparkSession.builder \\\n",
    "    .appName(\"PostgresConnection\") \\\n",
    "    .config(\"spark.jars.packages\", \n",
    "            \"org.apache.spark:spark-sql-kafka-0-10_2.12:3.3.0,org.apache.spark:spark-streaming-kafka-0-10_2.12:3.3.0,org.postgresql:postgresql:42.2.25\") \\\n",
    "    .getOrCreate()\n",
    "\n",
    "# URL JDBC pour PostgreSQL\n",
    "jdbc_url = \"jdbc:postgresql://192.168.1.24:5442/postgres\"\n",
    "\n",
    "# Propriétés JDBC\n",
    "jdbc_properties = {\n",
    "    \"user\": \"postgres\",\n",
    "    \"password\": \"test2021\",\n",
    "    \"driver\": \"org.postgresql.Driver\"\n",
    "}\n",
    "\n",
    "# Charger les données historiques depuis la table 'toots' (changement ici)\n",
    "try:\n",
    "    df_toots = spark.read.jdbc(url=jdbc_url, table=\"toots\", properties=jdbc_properties)\n",
    "    df_toots.show(5)  # Afficher les premières lignes pour vérifier\n",
    "except Exception as e:\n",
    "    print(\"Erreur rencontrée:\", e)\n",
    "\n",
    "# Charger les données historiques depuis la table 'toots' (changement ici)\n",
    "try:\n",
    "    df_hashtags = spark.read.jdbc(url=jdbc_url, table=\"hashtags\", properties=jdbc_properties)\n",
    "    df_hashtags.show(5)  # Afficher les premières lignes pour vérifier\n",
    "except Exception as e:\n",
    "    print(\"Erreur rencontrée:\", e)"
   ]
  },
  {
   "cell_type": "markdown",
   "id": "5a4c3336-a8df-4d6a-8bef-d98ebffbb278",
   "metadata": {},
   "source": [
    "# 2. Filtrer les toots en fonction de l'activité des utilisateurs"
   ]
  },
  {
   "cell_type": "code",
   "execution_count": 2,
   "id": "bf46314d-80ee-43d2-928e-d99427f7bbb4",
   "metadata": {},
   "outputs": [
    {
     "name": "stdout",
     "output_type": "stream",
     "text": [
      "+--------------------+----------+\n",
      "|                user|toot_count|\n",
      "+--------------------+----------+\n",
      "|                 344|       940|\n",
      "|       italy24_press|       284|\n",
      "|                 rff|       229|\n",
      "|     NewsDailyArabic|       181|\n",
      "|      AboveMaidstone|       172|\n",
      "|      spotifyartists|       172|\n",
      "|             prtimes|       161|\n",
      "|              linguo|       131|\n",
      "|          rogue_corq|       121|\n",
      "|       vertx_project|       120|\n",
      "|            fansided|       112|\n",
      "|               folha|       103|\n",
      "|           the_hindu|        90|\n",
      "|            walknews|        90|\n",
      "|      arXiv_csLG_bot|        88|\n",
      "|     realTuckFrumper|        87|\n",
      "|         Nekowashi_R|        87|\n",
      "|           bloomberg|        84|\n",
      "|ecf.dcd.uscourts.gov|        84|\n",
      "|      arXiv_csCL_bot|        84|\n",
      "+--------------------+----------+\n",
      "only showing top 20 rows\n",
      "\n"
     ]
    }
   ],
   "source": [
    "from pyspark.sql import functions as F\n",
    "\n",
    "# Compter les toots par utilisateur\n",
    "df_user_activity = df_toots.groupBy(\"user\").agg(F.count(\"*\").alias(\"toot_count\"))\n",
    "\n",
    "# Filtrer les utilisateurs avec plus de X toots (par exemple 10)\n",
    "df_active_users = df_user_activity.filter(F.col(\"toot_count\") > 10)\n",
    "\n",
    "# Ordonner par le nombre de toots en ordre décroissant\n",
    "df_active_users = df_active_users.orderBy(F.col(\"toot_count\").desc())\n",
    "\n",
    "# Afficher le résultat\n",
    "df_active_users.show()\n"
   ]
  },
  {
   "cell_type": "markdown",
   "id": "b5f2df0b-a4ac-42ad-90b4-fef1b60391ab",
   "metadata": {},
   "source": [
    "# 3. Regrouper par Temps et Hashtags, Calculer le Nombre de Toots, et Identifier le Hashtag le Plus Fréquent"
   ]
  },
  {
   "cell_type": "code",
   "execution_count": 5,
   "id": "67a9eb36-fcb8-4bd6-990a-4dfa7c4958bb",
   "metadata": {},
   "outputs": [
    {
     "name": "stdout",
     "output_type": "stream",
     "text": [
      "root\n",
      " |-- user: string (nullable = true)\n",
      " |-- content: string (nullable = true)\n",
      " |-- timestamp: timestamp (nullable = true)\n",
      " |-- language: string (nullable = true)\n",
      " |-- date: string (nullable = true)\n",
      " |-- time: string (nullable = true)\n",
      " |-- toot_length: integer (nullable = true)\n",
      " |-- hashtag: string (nullable = true)\n",
      "\n",
      "+------------+----------+\n",
      "|     hashtag|toot_count|\n",
      "+------------+----------+\n",
      "|          39|       313|\n",
      "|  nowplaying|        25|\n",
      "|issuecomment|        12|\n",
      "|           m|         9|\n",
      "|    Noticias|         5|\n",
      "|     comment|         5|\n",
      "|           1|         5|\n",
      "|       Music|         3|\n",
      "|Future_Diary|         3|\n",
      "|     bangkok|         3|\n",
      "+------------+----------+\n",
      "\n"
     ]
    }
   ],
   "source": [
    "# Vérifiez d'abord le schéma pour confirmer les colonnes\n",
    "df_hashtags.printSchema()\n",
    "\n",
    "# Grouper par hashtag et compter le nombre total de toots\n",
    "df_grouped = df_hashtags.groupBy(\"hashtag\").agg(\n",
    "    F.count(\"*\").alias(\"toot_count\")\n",
    ")\n",
    "\n",
    "# Identifier le hashtag le plus fréquent\n",
    "df_top_hashtag = df_grouped.orderBy(F.desc(\"toot_count\")).limit(10)\n",
    "\n",
    "df_top_hashtag.show()"
   ]
  },
  {
   "cell_type": "markdown",
   "id": "1f54625e-fbcc-4c1f-b42d-d8a3f2ed497c",
   "metadata": {},
   "source": [
    "# 4. Calculer les Agrégations (Nombre de Toots par Jour, Longueur Moyenne des Toots)"
   ]
  },
  {
   "cell_type": "code",
   "execution_count": 4,
   "id": "d3b8d2b3-de41-436f-a795-ea44a9b9800c",
   "metadata": {},
   "outputs": [
    {
     "name": "stdout",
     "output_type": "stream",
     "text": [
      "+----------+-----------+\n",
      "|      date|total_toots|\n",
      "+----------+-----------+\n",
      "|2024-10-02|          4|\n",
      "|2022-03-15|          2|\n",
      "|2024-09-30|          2|\n",
      "|2024-10-08|      12312|\n",
      "|2024-10-01|          1|\n",
      "|2024-10-04|      20026|\n",
      "|2024-10-07|       1763|\n",
      "|2024-10-03|         45|\n",
      "|2024-10-05|          1|\n",
      "|2024-10-06|          2|\n",
      "+----------+-----------+\n",
      "\n",
      "+----------+-----------------+\n",
      "|      date|  avg_toot_length|\n",
      "+----------+-----------------+\n",
      "|2024-10-02|           806.75|\n",
      "|2022-03-15|           1913.5|\n",
      "|2024-09-30|            809.5|\n",
      "|2024-10-08|693.6509096816114|\n",
      "|2024-10-01|            788.0|\n",
      "|2024-10-04|692.6130030959753|\n",
      "|2024-10-07| 573.354509359047|\n",
      "|2024-10-03|870.3555555555556|\n",
      "|2024-10-05|            912.0|\n",
      "|2024-10-06|            802.0|\n",
      "+----------+-----------------+\n",
      "\n"
     ]
    }
   ],
   "source": [
    "# Ajouter une colonne pour la longueur des toots\n",
    "df_with_length = df_toots.withColumn(\"toot_length\", F.length(\"content\"))\n",
    "\n",
    "# Compter le nombre de toots par jour\n",
    "df_toots_per_day = df_toots.groupBy(F.to_date(\"timestamp\").alias(\"date\")).agg(  # Utilisez \"timestamp\" ici\n",
    "    F.count(\"*\").alias(\"total_toots\")\n",
    ")\n",
    "\n",
    "# Calculer la longueur moyenne des toots\n",
    "df_avg_toot_length = df_with_length.groupBy(F.to_date(\"timestamp\").alias(\"date\")).agg(  # Utilisez \"timestamp\" ici\n",
    "    F.avg(\"toot_length\").alias(\"avg_toot_length\")\n",
    ")\n",
    "\n",
    "df_toots_per_day.show()\n",
    "df_avg_toot_length.show()\n"
   ]
  }
 ],
 "metadata": {
  "kernelspec": {
   "display_name": "Python 3 (ipykernel)",
   "language": "python",
   "name": "python3"
  },
  "language_info": {
   "codemirror_mode": {
    "name": "ipython",
    "version": 3
   },
   "file_extension": ".py",
   "mimetype": "text/x-python",
   "name": "python",
   "nbconvert_exporter": "python",
   "pygments_lexer": "ipython3",
   "version": "3.11.6"
  }
 },
 "nbformat": 4,
 "nbformat_minor": 5
}
